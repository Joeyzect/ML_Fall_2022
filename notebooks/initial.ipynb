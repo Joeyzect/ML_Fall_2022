{
 "cells": [
  {
   "cell_type": "code",
   "execution_count": 1,
   "metadata": {},
   "outputs": [],
   "source": [
    "import pandas as pd\n",
    "import numpy as np"
   ]
  },
  {
   "cell_type": "code",
   "execution_count": 39,
   "metadata": {},
   "outputs": [],
   "source": [
    "# Load in the data\n",
    "\n",
    "raw = pd.read_csv('../data/external/final_pphdatabase_merge_topost2.tab', sep='\\t')"
   ]
  },
  {
   "cell_type": "code",
   "execution_count": 59,
   "metadata": {},
   "outputs": [],
   "source": [
    "keep_cols = ['study', 'txtarm', 'pphloss', 'activebldcontrol', 'overallbld', 'age', 'iv_fluids', 'par_cat', 'q8_1', 'q9_1', 'q13_1', 'q10_2', 'q9_2', 'q8_2', 'q6_1', 'q7_1', 'q10_1', 'q11_1', 'q14_1', 'pphloss', 'q14_2']"
   ]
  },
  {
   "cell_type": "code",
   "execution_count": 60,
   "metadata": {},
   "outputs": [
    {
     "data": {
      "text/plain": [
       "1    1337\n",
       "2     424\n",
       "3      26\n",
       "Name: q14_2, dtype: int64"
      ]
     },
     "execution_count": 60,
     "metadata": {},
     "output_type": "execute_result"
    }
   ],
   "source": [
    "raw['q14_2'].value_counts()"
   ]
  },
  {
   "cell_type": "code",
   "execution_count": 61,
   "metadata": {},
   "outputs": [],
   "source": [
    "#need to transform q13_1 from weeks.days to days\n",
    "\n",
    "df = raw[keep_cols].copy()\n",
    "df['gestation_age'] = df['q13_1'].astype(str).str.split('.', expand=True)[0].astype(float) * 7 + df['q13_1'].astype(str).str.split('.', expand=True)[1].astype(float)\n",
    "df.drop(columns=['q13_1'], inplace=True)"
   ]
  },
  {
   "cell_type": "code",
   "execution_count": 63,
   "metadata": {},
   "outputs": [],
   "source": [
    "df.to_csv('../data/processed/goodvars.csv', index=False)"
   ]
  }
 ],
 "metadata": {
  "kernelspec": {
   "display_name": "Python 3.9.13 ('base')",
   "language": "python",
   "name": "python3"
  },
  "language_info": {
   "codemirror_mode": {
    "name": "ipython",
    "version": 3
   },
   "file_extension": ".py",
   "mimetype": "text/x-python",
   "name": "python",
   "nbconvert_exporter": "python",
   "pygments_lexer": "ipython3",
   "version": "3.9.13"
  },
  "orig_nbformat": 4,
  "vscode": {
   "interpreter": {
    "hash": "19d1d53a962d236aa061289c2ac16dc8e6d9648c89fe79f459ae9a3493bc67b4"
   }
  }
 },
 "nbformat": 4,
 "nbformat_minor": 2
}
